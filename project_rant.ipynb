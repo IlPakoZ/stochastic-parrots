{
 "cells": [
  {
   "cell_type": "code",
   "execution_count": 4,
   "metadata": {},
   "outputs": [
    {
     "name": "stderr",
     "output_type": "stream",
     "text": [
      "Token indices sequence length is longer than the specified maximum sequence length for this model (1078 > 1024). Running this sequence through the model will result in indexing errors\n"
     ]
    }
   ],
   "source": [
    "from pprint import pprint\n",
    "from collections import defaultdict\n",
    "from simple_lm import *\n",
    "import re\n",
    "import random\n",
    "import os\n",
    "from transformers import AutoTokenizer\n",
    "import platform\n",
    "\n",
    "tokenizer = AutoTokenizer.from_pretrained(\"gpt2\")\n",
    "\n",
    "OS = platform.platform()\n",
    "context_length = 4\n",
    "dir = \"r9k/res/\"\n",
    "\n",
    "\n",
    "def load_dataset():\n",
    "    freq_table = defaultdict(list)\n",
    "\n",
    "    for filename in os.listdir(dir):\n",
    "        if not os.path.isfile(dir+filename):\n",
    "            continue\n",
    "        \n",
    "        f = open(dir+filename, \"r\", encoding=\"utf-8\")\n",
    "        body = f.read()\n",
    "        body = \"\\n\".join(s.strip() for s in body.split('\\n'))\n",
    "        tokens = tokenizer(body)[\"input_ids\"]\n",
    "        freq_table = get_next_token_table(tokens, context_length, freq_table)\n",
    "    return freq_table\n",
    "\n",
    "freq_table = load_dataset()\n",
    "initial_context = [\"How\", \"are\", \"you?\"]"
   ]
  },
  {
   "cell_type": "code",
   "execution_count": 1,
   "metadata": {},
   "outputs": [],
   "source": [
    "from flask import Flask, request, jsonify, send_from_directory\n",
    "import argparse\n",
    "\n",
    "app = Flask(__name__)\n",
    "\n",
    "# Define a function to generate responses based on user input\n",
    "def generate_response(user_input):\n",
    "    responses = {\n",
    "        \"hi\": \"Hello! How can I help you today?\",\n",
    "        \"how are you\": \"I'm a bot, but I'm doing great! How about you?\",\n",
    "        \"bye\": \"Goodbye! Have a nice day!\",\n",
    "        # Add more responses as needed\n",
    "    }\n",
    "    return responses.get(user_input.lower(), \"I'm sorry, I don't understand that.\")\n",
    "\n",
    "# Route to handle chat requests\n",
    "@app.route(\"/chat\", methods=[\"POST\"])\n",
    "def chat():\n",
    "    user_message = request.json.get(\"message\", \"\")\n",
    "    response = generate_response(user_message)\n",
    "    return jsonify({\"response\": response})\n",
    "\n",
    "# Route to serve the index.html file\n",
    "@app.route('/')\n",
    "def serve_html():\n",
    "    return send_from_directory('.', 'index.html')\n",
    "\n",
    "def main():\n",
    "    parser = argparse.ArgumentParser(description=\"Run the Flask chatbot server.\")\n",
    "    parser.add_argument('--port', type=int, default=5000, help='Port to run the Flask server on.')\n",
    "    args = parser.parse_args()\n",
    "    \n",
    "    app.run(port=args.port, debug=True)"
   ]
  },
  {
   "cell_type": "code",
   "execution_count": 10,
   "metadata": {},
   "outputs": [
    {
     "data": {
      "text/plain": [
       "'\\nif \"Linux\" in OS or \"macOS\" in OS:\\n    os.system(\"clear\")\\nelif \"Windows\" in OS:\\n    os.system(\"cls\")\\n'"
      ]
     },
     "execution_count": 10,
     "metadata": {},
     "output_type": "execute_result"
    }
   ],
   "source": [
    "# Filter comments of length < context_length\n",
    "\n",
    "to_del = [] \n",
    "for k in freq_table.keys():    \n",
    "    if k[:4] == (27, 23893, 29, 198):\n",
    "        for i in range(4, len(k)):\n",
    "            if k[i:i+4] == (27, 23893, 29, 198):\n",
    "                to_del.append(k)\n",
    "\n",
    "for k in to_del:\n",
    "    del freq_table[k]\n",
    "    print(f\"Deleted {k}!\")\n",
    "\n",
    "\n",
    "\n",
    "#if \"Linux\" in OS or \"macOS\" in OS:\n",
    "#    os.system(\"clear\")\n",
    "#elif \"Windows\" in OS:\n",
    "#   os.system(\"cls\")"
   ]
  },
  {
   "cell_type": "code",
   "execution_count": 9,
   "metadata": {},
   "outputs": [],
   "source": [
    "# ------- FOR DEMO -------\n",
    "possible_starts = []\n",
    "\n",
    "for k,v in freq_table.items():\n",
    "    if k[:4] == (27, 23893, 29, 198):\n",
    "        possible_starts.append(k)\n",
    "    \n",
    "# -----------------------"
   ]
  },
  {
   "cell_type": "code",
   "execution_count": 11,
   "metadata": {},
   "outputs": [
    {
     "name": "stderr",
     "output_type": "stream",
     "text": [
      "2024-05-22 10:05:21.967909: I tensorflow/core/util/port.cc:113] oneDNN custom operations are on. You may see slightly different numerical results due to floating-point round-off errors from different computation orders. To turn them off, set the environment variable `TF_ENABLE_ONEDNN_OPTS=0`.\n",
      "2024-05-22 10:05:21.988858: E external/local_xla/xla/stream_executor/cuda/cuda_dnn.cc:9261] Unable to register cuDNN factory: Attempting to register factory for plugin cuDNN when one has already been registered\n",
      "2024-05-22 10:05:21.988880: E external/local_xla/xla/stream_executor/cuda/cuda_fft.cc:607] Unable to register cuFFT factory: Attempting to register factory for plugin cuFFT when one has already been registered\n",
      "2024-05-22 10:05:21.989440: E external/local_xla/xla/stream_executor/cuda/cuda_blas.cc:1515] Unable to register cuBLAS factory: Attempting to register factory for plugin cuBLAS when one has already been registered\n",
      "2024-05-22 10:05:21.993316: I tensorflow/core/platform/cpu_feature_guard.cc:182] This TensorFlow binary is optimized to use available CPU instructions in performance-critical operations.\n",
      "To enable the following instructions: AVX2 AVX_VNNI FMA, in other operations, rebuild TensorFlow with the appropriate compiler flags.\n"
     ]
    },
    {
     "name": "stdout",
     "output_type": "stream",
     "text": [
      "My theory is that women just cheat for their own amusement. They think their life is like a video game or reddit thread.\n",
      "\n"
     ]
    }
   ],
   "source": [
    "random.seed(1933)\n",
    "while (range(10)):\n",
    "    initial_context = list(random.choice(possible_starts))\n",
    "    generator = generate_tokens(freq_table, initial_context[-context_length:])\n",
    "    tokens = list(generator)[4:-3]\n",
    "    text = tokenizer.decode(tokens)\n",
    "    print(text)\n",
    "    #a = input()\n",
    "    \n",
    "    "
   ]
  }
 ],
 "metadata": {
  "kernelspec": {
   "display_name": "Python 3",
   "language": "python",
   "name": "python3"
  },
  "language_info": {
   "codemirror_mode": {
    "name": "ipython",
    "version": 3
   },
   "file_extension": ".py",
   "mimetype": "text/x-python",
   "name": "python",
   "nbconvert_exporter": "python",
   "pygments_lexer": "ipython3",
   "version": "3.10.12"
  }
 },
 "nbformat": 4,
 "nbformat_minor": 2
}
