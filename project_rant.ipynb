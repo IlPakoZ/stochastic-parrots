{
 "cells": [
  {
   "cell_type": "code",
   "execution_count": 6,
   "metadata": {},
   "outputs": [
    {
     "name": "stderr",
     "output_type": "stream",
     "text": [
      "Token indices sequence length is longer than the specified maximum sequence length for this model (1078 > 1024). Running this sequence through the model will result in indexing errors\n"
     ]
    }
   ],
   "source": [
    "from pprint import pprint\n",
    "from collections import defaultdict\n",
    "from simple_lm import *\n",
    "import re\n",
    "import random\n",
    "import os\n",
    "from transformers import AutoTokenizer\n",
    "import platform\n",
    "\n",
    "tokenizer = AutoTokenizer.from_pretrained(\"gpt2\")\n",
    "\n",
    "OS = platform.platform()\n",
    "context_length = 4\n",
    "dir = \"r9k/res/\"\n",
    "\n",
    "\n",
    "def load_dataset():\n",
    "    freq_table = defaultdict(list)\n",
    "\n",
    "    for filename in os.listdir(dir):\n",
    "        if not os.path.isfile(dir+filename):\n",
    "            continue\n",
    "        \n",
    "        f = open(dir+filename, \"r\", encoding=\"utf-8\")\n",
    "        body = f.read()\n",
    "        body = \"\\n\".join(s.strip() for s in body.split('\\n'))\n",
    "        tokens = tokenizer(body)[\"input_ids\"]\n",
    "        freq_table = get_next_token_table(tokens, context_length, freq_table)\n",
    "    return freq_table\n",
    "\n",
    "freq_table = load_dataset()\n",
    "initial_context = [\"How\", \"are\", \"you?\"]"
   ]
  },
  {
   "cell_type": "code",
   "execution_count": 26,
   "metadata": {},
   "outputs": [],
   "source": [
    "from flask import Flask, request, jsonify, send_from_directory\n",
    "import argparse\n",
    "\n",
    "app = Flask(__name__)\n",
    "\n",
    "# Define a function to generate responses based on user input\n",
    "def generate_response(user_input):\n",
    "    responses = {\n",
    "        \"hi\": \"Hello! How can I help you today?\",\n",
    "        \"how are you\": \"I'm a bot, but I'm doing great! How about you?\",\n",
    "        \"bye\": \"Goodbye! Have a nice day!\",\n",
    "        # Add more responses as needed\n",
    "    }\n",
    "    return responses.get(user_input.lower(), \"I'm sorry, I don't understand that.\")\n",
    "\n",
    "# Route to handle chat requests\n",
    "@app.route(\"/chat\", methods=[\"POST\"])\n",
    "def chat():\n",
    "    user_message = request.json.get(\"message\", \"\")\n",
    "    response = generate_response(user_message)\n",
    "    return jsonify({\"response\": response})\n",
    "\n",
    "# Route to serve the index.html file\n",
    "@app.route('/')\n",
    "def serve_html():\n",
    "    return send_from_directory('.', 'index.html')\n",
    "\n",
    "def main():\n",
    "    parser = argparse.ArgumentParser(description=\"Run the Flask chatbot server.\")\n",
    "    \"\"\"\n",
    "\n",
    "    parser.add_argument('--port', type=int, default=5000, help='Port to run the Flask server on.')\n",
    "    args = parser.parse_args()\n",
    "    print(args)\n",
    "\n",
    "    app.run(port=args.port, debug=True)\n",
    "    \"\"\"\n",
    "    pass"
   ]
  },
  {
   "cell_type": "code",
   "execution_count": 8,
   "metadata": {},
   "outputs": [],
   "source": [
    "# Filter comments of length < context_length\n",
    "\n",
    "to_del = [] \n",
    "for k in freq_table.keys():    \n",
    "    if k[:4] == (27, 23893, 29, 198):\n",
    "        for i in range(4, len(k)):\n",
    "            if k[i:i+4] == (27, 23893, 29, 198):\n",
    "                to_del.append(k)\n",
    "\n",
    "for k in to_del:\n",
    "    del freq_table[k]\n",
    "    print(f\"Deleted {k}!\")\n",
    "\n",
    "\n",
    "\n",
    "#if \"Linux\" in OS or \"macOS\" in OS:\n",
    "#    os.system(\"clear\")\n",
    "#elif \"Windows\" in OS:\n",
    "#   os.system(\"cls\")"
   ]
  },
  {
   "cell_type": "code",
   "execution_count": 9,
   "metadata": {},
   "outputs": [],
   "source": [
    "# ------- FOR DEMO -------\n",
    "possible_starts = []\n",
    "\n",
    "for k,v in freq_table.items():\n",
    "    if k[:4] == (27, 23893, 29, 198):\n",
    "        possible_starts.append(k)\n",
    "    \n",
    "# -----------------------"
   ]
  },
  {
   "cell_type": "code",
   "execution_count": 10,
   "metadata": {},
   "outputs": [
    {
     "name": "stdout",
     "output_type": "stream",
     "text": [
      "Taken out and won't\n",
      "\n",
      "Notice how none of these freak male X hot female couples live a normal, quiet life. They always fake makeup on, get a shit ton of weight.\n",
      "\n",
      "yeah but its a sekrit\n",
      "\n",
      "Anyone else waiting for a girls to approach them first? I know its highly unlikely but there is no black people in my country.\n",
      "I aint even mad at pakistan slander though for obvious reasons\n",
      "nice cock, pretty face, masculine, good listener, personable with others.\n",
      "yeah i'm envious of you guys. I realize that you can also do mechanics and plumbing, tomboy tradwife.\n",
      "\n",
      "explain why it totally wasn't your fault, don't blame yourself too much either. Feelscum are masters at twisting words to their advantage. Abusing slaves and using them to climb up higher, and even at times relishing in the torture of slaves by pretending they are or were in the process of growing, the parasite has castrated her crab host or hostess. While it's true that I did meet some people who spoke other languages on VRChat before.\n",
      "What I said is still true. Many straight men are absolutely delusional as to what women actually find attractive, and this will make sure she stays pure\n",
      "\n",
      "glow has a new tier sub for her yt?\n",
      "https://www.wikisocion.net/en/artworks/34177858\n",
      "reminds me of that scene from the SpongeBob movie\n",
      "kek you haven't seen Ping Pong the Animation.\n",
      "\n",
      "Found the e-gf anon &lt;3\n",
      "\n",
      "Nothing is wrong with you and making an effort to fix it.\n",
      "\n",
      "god i wish someone could hold my hand. just once.\n",
      "\n",
      "this is what zoomers wish their relationship looked like, but all the bullshit like having to act like you gaf about her is tiring. Is there anything I can do as a frenulem there is no pleasure.\n",
      "The only coherent story that psychedelics gave me to explain my behavior was that I literally didn't care about getting blown though (unlikely it would happen anyway) I just wanted to rant because I was so worried you were gone so long.\n",
      "\n"
     ]
    }
   ],
   "source": [
    "random.seed(1933)\n",
    "for i in range(10):\n",
    "    initial_context = list(random.choice(possible_starts))\n",
    "    generator = generate_tokens(freq_table, initial_context[-context_length:])\n",
    "    tokens = list(generator)[4:-3]\n",
    "    text = tokenizer.decode(tokens)\n",
    "    print(text)\n",
    "    #a = input()\n",
    "    \n",
    "    "
   ]
  },
  {
   "cell_type": "code",
   "execution_count": 27,
   "metadata": {},
   "outputs": [],
   "source": [
    "main()"
   ]
  }
 ],
 "metadata": {
  "kernelspec": {
   "display_name": "Python 3",
   "language": "python",
   "name": "python3"
  },
  "language_info": {
   "codemirror_mode": {
    "name": "ipython",
    "version": 3
   },
   "file_extension": ".py",
   "mimetype": "text/x-python",
   "name": "python",
   "nbconvert_exporter": "python",
   "pygments_lexer": "ipython3",
   "version": "3.10.12"
  }
 },
 "nbformat": 4,
 "nbformat_minor": 2
}
